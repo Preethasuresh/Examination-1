{
 "cells": [
  {
   "cell_type": "markdown",
   "id": "88f49944",
   "metadata": {},
   "source": [
    "<h3>10th Question</h3>"
   ]
  },
  {
   "cell_type": "code",
   "execution_count": 23,
   "id": "8722bdc7",
   "metadata": {},
   "outputs": [
    {
     "name": "stdout",
     "output_type": "stream",
     "text": [
      "Output: ['1997', '2011', '1993', '2020']\n"
     ]
    }
   ],
   "source": [
    "datesList=['17-12-1997','22-01-2011','01-05-1993','19-06-2020']\n",
    "Output=[]\n",
    "for i in datesList:\n",
    "    s=i.split(\"-\")\n",
    "    Output.append(s[2])\n",
    "print(\"Output:\",Output)"
   ]
  },
  {
   "cell_type": "markdown",
   "id": "68b788c3",
   "metadata": {},
   "source": [
    "<h3>9th Question</h3>"
   ]
  },
  {
   "cell_type": "code",
   "execution_count": 9,
   "id": "f33128e2",
   "metadata": {},
   "outputs": [
    {
     "name": "stdout",
     "output_type": "stream",
     "text": [
      "['TRUE', 'FALSE', 'TRUE', 'FALSE', 'FALSE']\n"
     ]
    }
   ],
   "source": [
    "isbool=['True','FALse','tRUe','False','faLse']\n",
    "Output=list(map(lambda x:x.upper(),isbool))\n",
    "print(Output)"
   ]
  },
  {
   "cell_type": "markdown",
   "id": "d70efd4d",
   "metadata": {},
   "source": [
    "<h3>8th Question</h3>"
   ]
  },
  {
   "cell_type": "code",
   "execution_count": 32,
   "id": "dee1a712",
   "metadata": {},
   "outputs": [
    {
     "name": "stdout",
     "output_type": "stream",
     "text": [
      "[9, 17, 24, 30, 35]\n"
     ]
    }
   ],
   "source": [
    "a= [9,8,7,6,5]\n",
    "import itertools as it\n",
    "l=[]\n",
    "l = it.accumulate(a)\n",
    "print(list(l))\n",
    "\n"
   ]
  },
  {
   "cell_type": "markdown",
   "id": "349c0217",
   "metadata": {},
   "source": [
    "<h3>7th Question</h3>"
   ]
  },
  {
   "cell_type": "code",
   "execution_count": 13,
   "id": "67f11216",
   "metadata": {},
   "outputs": [
    {
     "name": "stdout",
     "output_type": "stream",
     "text": [
      "[8, 3]\n"
     ]
    }
   ],
   "source": [
    "from functools import reduce\n",
    "scores = [[1,2,3,4,8],[2,3,8,5,6],[8,4,5,3,7],[6,9,8,3],[9,12,3,7,6,8,4,6,21,1,6]]\n",
    "res = list(reduce(lambda i, j: i & j, (set(n) for n in scores)))\n",
    "print(res)"
   ]
  },
  {
   "cell_type": "markdown",
   "id": "b3fa7a98",
   "metadata": {},
   "source": [
    "<h3>6th Question</h3>"
   ]
  },
  {
   "cell_type": "code",
   "execution_count": 21,
   "id": "babc5070",
   "metadata": {},
   "outputs": [
    {
     "ename": "NameError",
     "evalue": "name 're' is not defined",
     "output_type": "error",
     "traceback": [
      "\u001b[1;31m---------------------------------------------------------------------------\u001b[0m",
      "\u001b[1;31mNameError\u001b[0m                                 Traceback (most recent call last)",
      "\u001b[1;32m~\\AppData\\Local\\Temp/ipykernel_9344/4105874763.py\u001b[0m in \u001b[0;36m<module>\u001b[1;34m\u001b[0m\n\u001b[0;32m      2\u001b[0m \u001b[1;32mfor\u001b[0m \u001b[0mi\u001b[0m \u001b[1;32min\u001b[0m \u001b[0msat\u001b[0m\u001b[1;33m:\u001b[0m\u001b[1;33m\u001b[0m\u001b[1;33m\u001b[0m\u001b[0m\n\u001b[0;32m      3\u001b[0m     \u001b[0mstring\u001b[0m \u001b[1;33m=\u001b[0m \u001b[0mi\u001b[0m\u001b[1;33m\u001b[0m\u001b[1;33m\u001b[0m\u001b[0m\n\u001b[1;32m----> 4\u001b[1;33m     \u001b[0mtest\u001b[0m \u001b[1;33m=\u001b[0m \u001b[0mre\u001b[0m\u001b[1;33m.\u001b[0m\u001b[0mfindall\u001b[0m\u001b[1;33m(\u001b[0m\u001b[1;34mr'[A-Z][A-Za-z0-9]*'\u001b[0m\u001b[1;33m,\u001b[0m \u001b[0mstring\u001b[0m\u001b[1;33m)\u001b[0m\u001b[1;33m\u001b[0m\u001b[1;33m\u001b[0m\u001b[0m\n\u001b[0m\u001b[0;32m      5\u001b[0m \u001b[0mprint\u001b[0m\u001b[1;33m(\u001b[0m\u001b[0mtest\u001b[0m\u001b[1;33m)\u001b[0m\u001b[1;33m\u001b[0m\u001b[1;33m\u001b[0m\u001b[0m\n",
      "\u001b[1;31mNameError\u001b[0m: name 're' is not defined"
     ]
    }
   ],
   "source": [
    "\n",
    "sat=['santa Maria','Hello World','Merry christmas','thank You']\n",
    "for i in sat:\n",
    "    string = i\n",
    "    test = re.findall(r'[A-Z][A-Za-z0-9]*', string)\n",
    "print(test)"
   ]
  },
  {
   "cell_type": "markdown",
   "id": "70614abf",
   "metadata": {},
   "source": [
    "<h3>2nd Question</h3>"
   ]
  },
  {
   "cell_type": "code",
   "execution_count": 24,
   "id": "9ddf6446",
   "metadata": {},
   "outputs": [
    {
     "name": "stdout",
     "output_type": "stream",
     "text": [
      "254.45\n"
     ]
    }
   ],
   "source": [
    "def solve(n):\n",
    "    dict = { 'Square': lambda a : a**2, \n",
    "         'Cube': lambda a : a**3, \n",
    "         'Squareroot': lambda a : a**(1/2)}\n",
    "    result = 0\n",
    "    for k in dict.keys():\n",
    "        result += dict[k](n)\n",
    "    return result\n",
    "    \n",
    "print(round(solve(6),2))"
   ]
  },
  {
   "cell_type": "code",
   "execution_count": null,
   "id": "97067062",
   "metadata": {},
   "outputs": [],
   "source": []
  }
 ],
 "metadata": {
  "kernelspec": {
   "display_name": "Python 3 (ipykernel)",
   "language": "python",
   "name": "python3"
  },
  "language_info": {
   "codemirror_mode": {
    "name": "ipython",
    "version": 3
   },
   "file_extension": ".py",
   "mimetype": "text/x-python",
   "name": "python",
   "nbconvert_exporter": "python",
   "pygments_lexer": "ipython3",
   "version": "3.9.7"
  }
 },
 "nbformat": 4,
 "nbformat_minor": 5
}
